{
  "nbformat": 4,
  "nbformat_minor": 0,
  "metadata": {
    "colab": {
      "provenance": [],
      "authorship_tag": "ABX9TyMtkpu/Q6L4NxJQKd2yCPmq",
      "include_colab_link": true
    },
    "kernelspec": {
      "name": "python3",
      "display_name": "Python 3"
    },
    "language_info": {
      "name": "python"
    }
  },
  "cells": [
    {
      "cell_type": "markdown",
      "metadata": {
        "id": "view-in-github",
        "colab_type": "text"
      },
      "source": [
        "<a href=\"https://colab.research.google.com/github/NicoEssi/Bionic_Text_Markdown/blob/main/Bionic_Text_Markdown_Converter.ipynb\" target=\"_parent\"><img src=\"https://colab.research.google.com/assets/colab-badge.svg\" alt=\"Open In Colab\"/></a>"
      ]
    },
    {
      "cell_type": "code",
      "execution_count": 2,
      "metadata": {
        "id": "tomoHsL5akSl",
        "outputId": "1276c2fe-f588-49f8-cbcd-57a6ca7ad892",
        "colab": {
          "base_uri": "https://localhost:8080/"
        }
      },
      "outputs": [
        {
          "output_type": "stream",
          "name": "stdout",
          "text": [
            "Input: Plain MIT license applies, so feel free to use and modify it as you wish.\n",
            "Output: **Pla**in **M**IT **lice**nse **appl**ies, **s**o **fe**el **fr**ee **t**o **u**se **a**nd **mod**ify **i**t **a**s **y**ou **wi**sh.\n",
            " \n"
          ]
        }
      ],
      "source": [
        "# 08-07-23 DD-MM-YY\n",
        "# Nicolas Essipova\n",
        "import re\n",
        "\n",
        "def markdown_format(text):\n",
        "    words = text.split()\n",
        "    formatted_words = []\n",
        "\n",
        "    for word in words:\n",
        "\n",
        "        # Ignore words that are a single character.\n",
        "        if len(word) < 2:\n",
        "            bold_word = f\"**{word}**\"\n",
        "\n",
        "        # Cover edge cases wherein words are connected by the '-' char.\n",
        "        elif '-' in word:\n",
        "            subwords = word.split('-')\n",
        "            formatted_subwords = []\n",
        "            for subword in subwords:\n",
        "\n",
        "                # Ignore special characters in determining length of word.\n",
        "                alphanumeric_subword = re.sub(r'[^a-zA-Z0-9]', '', subword)\n",
        "\n",
        "                # Ignore words that are a single character.\n",
        "                if len(alphanumeric_subword) < 2:\n",
        "                    formatted_subwords.append(subword)\n",
        "                else:\n",
        "                    mid_index = len(alphanumeric_subword) // 2\n",
        "\n",
        "                    # If the word is an odd number, round up rather than round down,\n",
        "                    # except when the word is 3 characters long.\n",
        "                    if len(alphanumeric_subword) % 2 == 1 and len(alphanumeric_subword) > 3:\n",
        "                        bold_subword = f\"**{subword[:mid_index+1]}**{subword[mid_index+1:]}\"\n",
        "                    else:\n",
        "                        bold_subword = f\"**{subword[:mid_index]}**{subword[mid_index:]}\"\n",
        "                    formatted_subwords.append(bold_subword)\n",
        "            bold_word = '-'.join(formatted_subwords)\n",
        "        else:\n",
        "            alphanumeric_word = re.sub(r'[^a-zA-Z0-9]', '', word)\n",
        "            mid_index = len(alphanumeric_word) // 2\n",
        "            if len(alphanumeric_word) % 2 == 1 and len(alphanumeric_word) > 3:\n",
        "                bold_word = f\"**{word[:mid_index+1]}**{word[mid_index+1:]}\"\n",
        "            else:\n",
        "\n",
        "                # ¯\\_(ツ)_/¯\n",
        "                bold_word = f\"**{word[:mid_index]}**{word[mid_index:]}\"\n",
        "        formatted_words.append(bold_word)\n",
        "\n",
        "    formatted_text = ' '.join(formatted_words)\n",
        "    return formatted_text\n",
        "\n",
        "def markdown_format(text):\n",
        "    words = text.split()\n",
        "    formatted_words = []\n",
        "\n",
        "    for word in words:\n",
        "        if len(word) < 2:\n",
        "            bold_word = f\"**{word}**\"\n",
        "        else:\n",
        "            alphanumeric_word = re.sub(r'[^a-zA-Z0-9]', '', word)\n",
        "            mid_index = len(alphanumeric_word) // 2\n",
        "            if len(alphanumeric_word) > 3 and len(alphanumeric_word) % 2 == 1:\n",
        "                bold_word = f\"**{word[:mid_index+1]}**{word[mid_index+1:]}\"\n",
        "            else:\n",
        "                bold_word = f\"**{word[:mid_index]}**{word[mid_index:]}\"\n",
        "\n",
        "        formatted_words.append(bold_word)\n",
        "\n",
        "    formatted_text = ' '.join(formatted_words)\n",
        "    return formatted_text\n",
        "\n",
        "input_string = input(\"Input: \")\n",
        "formatted_string = markdown_format(input_string)\n",
        "print(\"Output: \" + formatted_string)\n",
        "print(\" \")"
      ]
    },
    {
      "cell_type": "markdown",
      "source": [
        "# 👇 👇 👇 👇 👇 👇 👇\n",
        "**Pla**in **M**IT **lice**nse **appl**ies, **s**o **fe**el **fr**ee **t**o **u**se **a**nd **mod**ify **i**t **a**s **y**ou **wi**sh.\n",
        "\n",
        "\n",
        "# 👆 👆 👆 👆 👆 👆 👆"
      ],
      "metadata": {
        "id": "bNDLczXYdHp5"
      }
    }
  ]
}