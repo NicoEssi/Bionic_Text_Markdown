{
  "nbformat": 4,
  "nbformat_minor": 0,
  "metadata": {
    "colab": {
      "provenance": [],
      "authorship_tag": "ABX9TyN8hM+6zdRfsgBbr1p4kGwm",
      "include_colab_link": true
    },
    "kernelspec": {
      "name": "python3",
      "display_name": "Python 3"
    },
    "language_info": {
      "name": "python"
    }
  },
  "cells": [
    {
      "cell_type": "markdown",
      "metadata": {
        "id": "view-in-github",
        "colab_type": "text"
      },
      "source": [
        "<a href=\"https://colab.research.google.com/github/NicoEssi/Bionic_Text_Markdown/blob/main/Bionic_Text_Markdown_Converter.ipynb\" target=\"_parent\"><img src=\"https://colab.research.google.com/assets/colab-badge.svg\" alt=\"Open In Colab\"/></a>"
      ]
    },
    {
      "cell_type": "code",
      "execution_count": 11,
      "metadata": {
        "colab": {
          "base_uri": "https://localhost:8080/"
        },
        "id": "tomoHsL5akSl",
        "outputId": "9a0e6d41-6960-496b-fb4c-16dffaa21951"
      },
      "outputs": [
        {
          "output_type": "stream",
          "name": "stdout",
          "text": [
            "Input: Double click on this paragraph, and insert your output into the editor that'll appear. You'll see the markdown represented - simply copy and paste it wherever you want, assuming your editor of choice does not support markdown out of the box.\n",
            "Output: **Dou**ble **cli**ck **o**n **th**is **parag**raph, **a**nd **ins**ert **yo**ur **out**put **in**to **t**he **edi**tor **tha**t'll **app**ear. **You**'ll **s**ee **t**he **mark**down **repres**ented **-** **sim**ply **co**py **a**nd **pas**te **i**t **wher**ever **y**ou **wa**nt, **assu**ming **yo**ur **edi**tor **o**f **cho**ice **do**es **n**ot **supp**ort **mark**down **o**ut **o**f **t**he **b**ox.\n"
          ]
        }
      ],
      "source": [
        "# 08-07-23 DD-MM-YY\n",
        "# Nicolas Essipova\n",
        "\n",
        "import re\n",
        "\n",
        "def markdown_format(text):\n",
        "    words = text.split()\n",
        "    formatted_words = []\n",
        "\n",
        "    for word in words:\n",
        "\n",
        "        # Ignore words that are a single character.\n",
        "        if len(word) < 2:\n",
        "            bold_word = f\"**{word}**\"\n",
        "\n",
        "        else:\n",
        "            # Ignore special characters in determining length of word.\n",
        "            alphanumeric_word = re.sub(r'[^a-zA-Z0-9]', '', word)\n",
        "            mid_index = len(alphanumeric_word) // 2\n",
        "\n",
        "            # If the word is an odd number, round up rather than round down,\n",
        "            # except when the word is 3 characters long.\n",
        "            if len(alphanumeric_word) > 3 and len(alphanumeric_word) % 2 == 1:\n",
        "                bold_word = f\"**{word[:mid_index+1]}**{word[mid_index+1:]}\"\n",
        "\n",
        "            # ¯\\_(ツ)_/¯\n",
        "            else:\n",
        "                bold_word = f\"**{word[:mid_index]}**{word[mid_index:]}\"\n",
        "\n",
        "        formatted_words.append(bold_word)\n",
        "\n",
        "    formatted_text = ' '.join(formatted_words)\n",
        "    return formatted_text\n",
        "\n",
        "input_string = input(\"Input: \")\n",
        "formatted_string = markdown_format(input_string)\n",
        "print(\"Output: \" + formatted_string)"
      ]
    },
    {
      "cell_type": "markdown",
      "source": [
        "# 👇 👇 👇 👇 👇 👇 👇\n",
        "**Dou**ble **cli**ck **o**n **th**is **parag**raph, **a**nd **ins**ert **yo**ur **out**put **in**to **t**he **edi**tor **tha**t'll **app**ear. **You**'ll **s**ee **t**he **mark**down **repres**ented **-** **sim**ply **co**py **a**nd **pas**te **i**t **wher**ever **y**ou **wa**nt, **assu**ming **yo**ur **edi**tor **o**f **cho**ice **do**es **n**ot **supp**ort **mark**down **o**ut **o**f **t**he **b**ox.\n",
        "# 👆 👆 👆 👆 👆 👆 👆"
      ],
      "metadata": {
        "id": "bNDLczXYdHp5"
      }
    }
  ]
}